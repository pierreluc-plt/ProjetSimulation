{
 "cells": [
  {
   "cell_type": "code",
   "execution_count": 2,
   "metadata": {},
   "outputs": [],
   "source": [
    "import numpy as np\n",
    "import matplotlib.pyplot as plt\n"
   ]
  },
  {
   "cell_type": "markdown",
   "metadata": {},
   "source": [
    "## Question 1: Déterminez l’algorithme explicite d’itérations consécutives correspondant à l’équation (3)"
   ]
  },
  {
   "cell_type": "code",
   "execution_count": null,
   "metadata": {},
   "outputs": [],
   "source": []
  },
  {
   "cell_type": "markdown",
   "metadata": {},
   "source": [
    "## Question 2: Démontrez comment le membre de droite de l’équation (4) s’obtient à partir du membre du centre"
   ]
  },
  {
   "cell_type": "code",
   "execution_count": null,
   "metadata": {},
   "outputs": [],
   "source": []
  },
  {
   "cell_type": "markdown",
   "metadata": {},
   "source": [
    "## Question 3:"
   ]
  },
  {
   "cell_type": "code",
   "execution_count": 73,
   "metadata": {},
   "outputs": [],
   "source": [
    "def Simulation(y0, v0, alpha, dt, t_max): \n",
    "    \"\"\"dt est exprimé en valeur de T/pi\n",
    "        t_max est exprimé en période\"\"\"\n",
    "    \n",
    "    # Paramètres:\n",
    "    k=20\n",
    "    m=50e-3\n",
    "    g=9.8\n",
    "    T=2*np.pi*np.sqrt(m/k)\n",
    "    dt=dt*T/np.pi\n",
    "    yeq=-m*g/k\n",
    "    # Calcul de y1\n",
    "    y1=y0*(1-k/2/m*dt**2)+v0*dt*(1-alpha*dt/2/m)-g/2*dt**2\n",
    "    \n",
    "    Position=[y0,y1]\n",
    "    Temps=[0,dt]\n",
    "    \n",
    "    for i in range(int(np.ceil(t_max*T/dt))):\n",
    "        yi=Position[-1]\n",
    "        ym1=Position[-2]\n",
    "        #y(i+1)\n",
    "        yp1=(yi*(-k+2*m/dt**2)+ym1*(alpha/2/dt-m/dt**2)-m*g)*(m/dt**2+alpha/2/dt)**(-1)\n",
    "\n",
    "        Temps.append(Temps[-1]+dt)\n",
    "        Position.append(yp1)\n",
    "        \n",
    "    return Temps, Position\n",
    "    \n",
    "    \n",
    "    \n",
    "\n",
    "    \n",
    "    "
   ]
  },
  {
   "cell_type": "code",
   "execution_count": 74,
   "metadata": {},
   "outputs": [],
   "source": [
    "y0=-1e-2\n",
    "v0=-1.5e-2 \n",
    "alpha=0.12\n",
    "dt=1e-4\n",
    "t_max=1\n",
    "Temps, Position=Simulation(y0, v0, alpha, dt, t_max)"
   ]
  },
  {
   "cell_type": "code",
   "execution_count": 75,
   "metadata": {},
   "outputs": [
    {
     "data": {
      "text/plain": [
       "[<matplotlib.lines.Line2D at 0x11490b6d8>]"
      ]
     },
     "execution_count": 75,
     "metadata": {},
     "output_type": "execute_result"
    },
    {
     "data": {
      "image/png": "[encoded data removed]",
      "text/plain": [
       "<Figure size 432x288 with 1 Axes>"
      ]
     },
     "metadata": {
      "needs_background": "light"
     },
     "output_type": "display_data"
    }
   ],
   "source": [
    "plt.plot(Temps,Position)\n"
   ]
  },
  {
   "cell_type": "code",
   "execution_count": 36,
   "metadata": {},
   "outputs": [
    {
     "data": {
      "text/plain": [
       "3"
      ]
     },
     "execution_count": 36,
     "metadata": {},
     "output_type": "execute_result"
    }
   ],
   "source": [
    "exposant=[-4.75, -4.5]"
   ]
  },
  {
   "cell_type": "code",
   "execution_count": null,
   "metadata": {},
   "outputs": [],
   "source": []
  }
 ],
 "metadata": {
  "kernelspec": {
   "display_name": "Python 3",
   "language": "python",
   "name": "python3"
  },
  "language_info": {
   "codemirror_mode": {
    "name": "ipython",
    "version": 3
   },
   "file_extension": ".py",
   "mimetype": "text/x-python",
   "name": "python",
   "nbconvert_exporter": "python",
   "pygments_lexer": "ipython3",
   "version": "3.7.3"
  }
 },
 "nbformat": 4,
 "nbformat_minor": 2
}
