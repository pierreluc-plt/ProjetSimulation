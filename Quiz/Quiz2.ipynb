{
 "cells": [
  {
   "cell_type": "code",
   "execution_count": 144,
   "metadata": {},
   "outputs": [],
   "source": [
    "import numpy as np\n",
    "import matplotlib.pyplot as plt\n",
    "from scipy.sparse import csc_matrix\n",
    "from scipy.sparse.linalg import spsolve"
   ]
  },
  {
   "cell_type": "code",
   "execution_count": 320,
   "metadata": {},
   "outputs": [],
   "source": [
    "dx=3e-3\n",
    "L=30e-2\n",
    "dL=10e-2\n",
    "q=-2000\n",
    "rho=2000\n",
    "h=10\n",
    "k=1\n",
    "Cv=1000\n",
    "\n",
    "\n",
    "\n",
    "## Conditions aux frontières et initiales\n",
    "Ta=-10+273.15 ## Vérifier si c'est en celsius ou Kelvin\n",
    "Ti= 20 +273.15\n",
    "\n",
    "T0=np.ones(len(x_grid))*Ta  # Conditions initiales\n",
    "\n",
    "# Dans la version temporelle, les conditions doivent être mises à jour à chaque itération\n",
    "\n",
    "dT0=(-h/k)*(Ta-T0[0])\n",
    "dTL=(-h/k)*(T0[-1]-Ti)\n",
    "c1=0\n",
    "c2=1\n",
    "c3=-(c1*dT0+c2*Ta)\n",
    "d1=0\n",
    "d2=1\n",
    "d3=-(d1*dTL+d2*Ti)\n",
    "\n"
   ]
  },
  {
   "cell_type": "code",
   "execution_count": 321,
   "metadata": {},
   "outputs": [],
   "source": [
    "x_grid=np.arange(0,L+dx,dx)\n",
    "\n",
    "Sx=q*np.ones(len(x_grid))*[x_grid>=L-dL]/k\n",
    "\n",
    "\n",
    "A=np.diag(-2*np.ones(len(x_grid)))+np.diag(1*np.ones(len(x_grid)-1),k=1)+np.diag(1*np.ones(len(x_grid)-1),k=-1)\n",
    "A[0,0:3]=[2*c2*dx-3*c1, 4*c1, c1]\n",
    "A[-1,-3:]=[d1, -4*d1, 2*d2*dx+3*d1]\n"
   ]
  },
  {
   "cell_type": "code",
   "execution_count": 322,
   "metadata": {},
   "outputs": [],
   "source": [
    "b=Sx*dx**2\n",
    "b[0][0]=-2*c3*dx\n",
    "b[0][-1]=-2*d3*dx\n",
    "b\n",
    "\n",
    "# Pour utiliser les sparses...\n",
    "Asp = csc_matrix(A, dtype=float)\n",
    "bsp = csc_matrix(b.transpose(), dtype=float)\n"
   ]
  },
  {
   "cell_type": "code",
   "execution_count": 323,
   "metadata": {},
   "outputs": [
    {
     "data": {
      "text/plain": [
       "21.133220000000904"
      ]
     },
     "execution_count": 323,
     "metadata": {},
     "output_type": "execute_result"
    },
    {
     "data": {
      "image/png": "[encoded data removed]",
      "text/plain": [
       "<Figure size 432x288 with 1 Axes>"
      ]
     },
     "metadata": {
      "needs_background": "light"
     },
     "output_type": "display_data"
    }
   ],
   "source": [
    "T_eq = spsolve(Asp, bsp)\n",
    "\n",
    "# Affichage des résultats\n",
    "plt.plot(x_grid,T_eq-273.15, label=\"Sparse\")\n",
    "plt.plot(x_grid,np.linalg.solve(A,b.transpose())-273.15,label=\"Normal\")\n",
    "plt.legend()\n",
    "\n",
    "T_eq_Max=np.max(T_eq)\n",
    "T_eq_Max-273.15"
   ]
  },
  {
   "cell_type": "markdown",
   "metadata": {},
   "source": [
    "# Avec dépendance temporelle"
   ]
  },
  {
   "cell_type": "code",
   "execution_count": 279,
   "metadata": {},
   "outputs": [],
   "source": [
    "# Paramètres supplémentaires\n",
    "dt=dx**2*Cv*rho/k\n",
    "alpha=Cv*rho/k\n",
    "Xi=0.5\n",
    "\n",
    "M=np.eye(len(x_grid))\n",
    "M[0,0]=0\n",
    "M[-1,-1]=0\n",
    "\n",
    "# Nouvelle matrice A\n",
    "\n",
    "\n",
    "# Ne pas oublier de recalculer les CF à chaque étape... "
   ]
  },
  {
   "cell_type": "code",
   "execution_count": null,
   "metadata": {},
   "outputs": [],
   "source": []
  },
  {
   "cell_type": "code",
   "execution_count": null,
   "metadata": {},
   "outputs": [],
   "source": []
  }
 ],
 "metadata": {
  "kernelspec": {
   "display_name": "Python 3",
   "language": "python",
   "name": "python3"
  },
  "language_info": {
   "codemirror_mode": {
    "name": "ipython",
    "version": 3
   },
   "file_extension": ".py",
   "mimetype": "text/x-python",
   "name": "python",
   "nbconvert_exporter": "python",
   "pygments_lexer": "ipython3",
   "version": "3.7.3"
  }
 },
 "nbformat": 4,
 "nbformat_minor": 2
}
